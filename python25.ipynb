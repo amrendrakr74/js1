{
 "cells": [
  {
   "cell_type": "code",
   "execution_count": 3,
   "id": "ff6a5ebc-020b-471d-8b18-65b096679485",
   "metadata": {},
   "outputs": [
    {
     "name": "stdin",
     "output_type": "stream",
     "text": [
      "enter first number 23\n",
      "enter second number 12\n"
     ]
    },
    {
     "name": "stdout",
     "output_type": "stream",
     "text": [
      "number first is greater\n"
     ]
    }
   ],
   "source": [
    "#if else statement\n",
    "\n",
    "no1=int(input(\"enter first number\"))\n",
    "no2=int(input(\"enter second number\"))\n",
    "if(no1>no2):\n",
    "    print(\"number first is greater\")\n",
    "else:\n",
    "    print(\"number second is greater\")"
   ]
  },
  {
   "cell_type": "code",
   "execution_count": null,
   "id": "d87b318e-0f25-4bb3-98e1-13d1f362ebe8",
   "metadata": {},
   "outputs": [],
   "source": [
    "amt=0\n",
    "a = int(input(\"enter units\"))\n",
    "if a<=100:\n",
    "    amt=0 \n",
    "if a>100 and a<=200:\n",
    "        amt=(a-100)*5\n",
    "if a>200:\n",
    "        amt=500+(a-200)*10\n",
    "print(\"amount to pay\", amt)\n"
   ]
  },
  {
   "cell_type": "code",
   "execution_count": 7,
   "id": "e4f48275-e949-46c9-94f3-f46200e2f5ad",
   "metadata": {},
   "outputs": [
    {
     "name": "stdin",
     "output_type": "stream",
     "text": [
      "enter the price of bike 150000\n"
     ]
    },
    {
     "name": "stdout",
     "output_type": "stream",
     "text": [
      "tax to be paid 22500.0\n"
     ]
    }
   ],
   "source": [
    "#tax pay\n",
    "\n",
    "tax=0\n",
    "price=int(input(\"enter the price of bike\"))\n",
    "if price>100000:\n",
    "    tax=15/100*price\n",
    "elif price>50000 and price<=100000:\n",
    "    tax=5/100*price\n",
    "else:\n",
    "    tax=5/100*price\n",
    "print(\"tax to be paid\",tax)\n"
   ]
  },
  {
   "cell_type": "code",
   "execution_count": 15,
   "id": "2d166e2c-2f25-4336-941e-bcc695869ad9",
   "metadata": {},
   "outputs": [
    {
     "name": "stdout",
     "output_type": "stream",
     "text": [
      "True\n"
     ]
    }
   ],
   "source": [
    "#single hand statement\n",
    "\n",
    "a=29\n",
    "print(True) if a<30 else print(false)"
   ]
  },
  {
   "cell_type": "raw",
   "id": "c0f8bb61-384c-4347-a20b-5a16ec4cd78e",
   "metadata": {},
   "source": []
  },
  {
   "cell_type": "code",
   "execution_count": 19,
   "id": "290eb8e9-e692-4b9b-ab0b-eba87994d609",
   "metadata": {},
   "outputs": [
    {
     "name": "stdout",
     "output_type": "stream",
     "text": [
      "range(0, 10)\n",
      "[0, 1, 2, 3, 4, 5, 6, 7, 8, 9]\n",
      "[2, 3, 4, 5, 6, 7]\n",
      "[2, 5, 8, 11, 14, 17]\n"
     ]
    }
   ],
   "source": [
    "\n",
    "#range function\n",
    "\n",
    "print(range(10))\n",
    "print(list(range(10)))\n",
    "print(list(range(2,8)))\n",
    "print(list(range(2,20,3)))"
   ]
  },
  {
   "cell_type": "code",
   "execution_count": 21,
   "id": "02db4f68-7b5b-4c8c-aec0-1715b2e87a5d",
   "metadata": {},
   "outputs": [
    {
     "name": "stdout",
     "output_type": "stream",
     "text": [
      "1\n",
      "2\n",
      "3\n"
     ]
    }
   ],
   "source": [
    "#loop and while loop\n",
    "\n",
    "\n",
    "i=1\n",
    "while i<4:\n",
    "    print(i)\n",
    "    i+=1"
   ]
  },
  {
   "cell_type": "code",
   "execution_count": 55,
   "id": "e73e9f77-d0d5-4211-900f-27a8c56ad8ac",
   "metadata": {},
   "outputs": [
    {
     "name": "stdin",
     "output_type": "stream",
     "text": [
      "enter any 5 digit number 12345\n"
     ]
    },
    {
     "name": "stdout",
     "output_type": "stream",
     "text": [
      "no is not palindrome\n"
     ]
    }
   ],
   "source": [
    "#palindrome program\n",
    "\n",
    "num = int(input(\"enter any 5 digit number\"))\n",
    "num1=num\n",
    "rev=0\n",
    "while num !=0:\n",
    "    rem = num%10\n",
    "    rev = rev*10+rem\n",
    "    num = int(num/10)\n",
    "if num1==rev:\n",
    "    print(\"no is palindrome\")\n",
    "else:\n",
    "    print(\"no is not palindrome\")"
   ]
  },
  {
   "cell_type": "code",
   "execution_count": null,
   "id": "b08a54c7-2c29-4d8a-a925-05b7af4206a0",
   "metadata": {},
   "outputs": [],
   "source": []
  }
 ],
 "metadata": {
  "kernelspec": {
   "display_name": "Python 3 (ipykernel)",
   "language": "python",
   "name": "python3"
  },
  "language_info": {
   "codemirror_mode": {
    "name": "ipython",
    "version": 3
   },
   "file_extension": ".py",
   "mimetype": "text/x-python",
   "name": "python",
   "nbconvert_exporter": "python",
   "pygments_lexer": "ipython3",
   "version": "3.12.4"
  }
 },
 "nbformat": 4,
 "nbformat_minor": 5
}
